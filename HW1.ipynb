{
 "cells": [
  {
   "cell_type": "code",
   "execution_count": 1,
   "metadata": {},
   "outputs": [],
   "source": [
    "import numpy as np"
   ]
  },
  {
   "cell_type": "code",
   "execution_count": 18,
   "metadata": {},
   "outputs": [],
   "source": [
    "def f(x):\n",
    "    return x * np.sin(3 * x) - np.exp(x)\n",
    "\n",
    "def df(x):\n",
    "    return np.sin(3 * x) + 3 * x * np.cos(3 * x) - np.exp(x)"
   ]
  },
  {
   "cell_type": "code",
   "execution_count": 50,
   "metadata": {},
   "outputs": [
    {
     "data": {
      "text/plain": [
       "[-1.6,\n",
       " 3.1979951385210694,\n",
       " 2.4644024441424284,\n",
       " 1.2035359007112925,\n",
       " 0.6502014632644292,\n",
       " -0.1169233418248703,\n",
       " -0.6605234854521386,\n",
       " -0.5219265439062168,\n",
       " -0.5665527428708069,\n",
       " -0.5707465821813341,\n",
       " -0.57078961788788]"
      ]
     },
     "execution_count": 50,
     "metadata": {},
     "output_type": "execute_result"
    }
   ],
   "source": [
    "x = [-1.6] # initial guess\n",
    "newton_iteration = 0\n",
    "for j in range(1000):\n",
    "    x_j = x[j] - (f(x[j]) / df(x[j]))\n",
    "    x.append(x_j)\n",
    "    newton_iteration += 1\n",
    "    if np.abs(f(x_j)) < 1e-6:\n",
    "        break\n",
    "A1 = x\n",
    "A1"
   ]
  },
  {
   "cell_type": "code",
   "execution_count": 51,
   "metadata": {},
   "outputs": [
    {
     "data": {
      "text/plain": [
       "[-0.55,\n",
       " -0.625,\n",
       " -0.5875,\n",
       " -0.5687500000000001,\n",
       " -0.578125,\n",
       " -0.5734375,\n",
       " -0.5710937500000001,\n",
       " -0.5699218750000001,\n",
       " -0.5705078125,\n",
       " -0.57080078125,\n",
       " -0.570654296875,\n",
       " -0.5707275390625,\n",
       " -0.57076416015625,\n",
       " -0.570782470703125,\n",
       " -0.5707916259765625,\n",
       " -0.5707870483398438,\n",
       " -0.5707893371582031]"
      ]
     },
     "execution_count": 51,
     "metadata": {},
     "output_type": "execute_result"
    }
   ],
   "source": [
    "xl = -0.7\n",
    "xr = -0.4\n",
    "xc = []\n",
    "bisection_iteration = 0\n",
    "for j in range(1000):\n",
    "    xc.append((xr + xl)/2)\n",
    "    fc = f(xc[j])\n",
    "    bisection_iteration += 1\n",
    "    if ( fc > 0 ):\n",
    "        xl = xc[j]\n",
    "    else:\n",
    "        xr = xc[j]\n",
    "    if (np.abs(fc) < 1e-6):\n",
    "        break\n",
    "A2 = xc\n",
    "A2"
   ]
  },
  {
   "cell_type": "code",
   "execution_count": 52,
   "metadata": {},
   "outputs": [
    {
     "data": {
      "text/plain": [
       "[10, 17]"
      ]
     },
     "execution_count": 52,
     "metadata": {},
     "output_type": "execute_result"
    }
   ],
   "source": [
    "A3 = [newton_iteration, bisection_iteration]\n",
    "A3"
   ]
  }
 ],
 "metadata": {
  "kernelspec": {
   "display_name": "Python 3",
   "language": "python",
   "name": "python3"
  },
  "language_info": {
   "codemirror_mode": {
    "name": "ipython",
    "version": 3
   },
   "file_extension": ".py",
   "mimetype": "text/x-python",
   "name": "python",
   "nbconvert_exporter": "python",
   "pygments_lexer": "ipython3",
   "version": "3.11.4"
  }
 },
 "nbformat": 4,
 "nbformat_minor": 2
}
