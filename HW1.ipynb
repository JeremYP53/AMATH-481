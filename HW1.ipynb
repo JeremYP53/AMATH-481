{
 "cells": [
  {
   "cell_type": "markdown",
   "metadata": {},
   "source": [
    "Question 1"
   ]
  },
  {
   "cell_type": "code",
   "execution_count": 33,
   "metadata": {},
   "outputs": [],
   "source": [
    "import numpy as np"
   ]
  },
  {
   "cell_type": "code",
   "execution_count": 34,
   "metadata": {},
   "outputs": [],
   "source": [
    "def f(x):\n",
    "    return x * np.sin(3 * x) - np.exp(x)\n",
    "\n",
    "def df(x):\n",
    "    return np.sin(3 * x) + 3 * x * np.cos(3 * x) - np.exp(x)"
   ]
  },
  {
   "cell_type": "code",
   "execution_count": 35,
   "metadata": {},
   "outputs": [],
   "source": [
    "x = [-1.6] # initial guess\n",
    "newton_iteration = 0\n",
    "for j in range(1000):\n",
    "    x_j = x[j] - (f(x[j]) / df(x[j]))\n",
    "    x.append(x_j)\n",
    "    newton_iteration += 1\n",
    "    if np.abs(f(x_j)) < 1e-6:\n",
    "        break\n",
    "A1 = x"
   ]
  },
  {
   "cell_type": "code",
   "execution_count": 36,
   "metadata": {},
   "outputs": [],
   "source": [
    "xl = -0.7\n",
    "xr = -0.4\n",
    "xc = []\n",
    "bisection_iteration = 0\n",
    "for j in range(1000):\n",
    "    xc.append((xr + xl)/2)\n",
    "    fc = f(xc[j])\n",
    "    bisection_iteration += 1\n",
    "    if ( fc > 0 ):\n",
    "        xl = xc[j]\n",
    "    else:\n",
    "        xr = xc[j]\n",
    "    if (np.abs(fc) < 1e-6):\n",
    "        break\n",
    "A2 = xc"
   ]
  },
  {
   "cell_type": "code",
   "execution_count": 37,
   "metadata": {},
   "outputs": [],
   "source": [
    "A3 = [newton_iteration, bisection_iteration]"
   ]
  },
  {
   "cell_type": "code",
   "execution_count": 38,
   "metadata": {},
   "outputs": [],
   "source": [
    "np.save('/Users/jere_7/Documents/AU24/AMATH 481/A1.npy', A1)\n",
    "np.save('/Users/jere_7/Documents/AU24/AMATH 481/A2.npy', A2)\n",
    "np.save('/Users/jere_7/Documents/AU24/AMATH 481/A3.npy', A3)"
   ]
  },
  {
   "cell_type": "markdown",
   "metadata": {},
   "source": [
    "Question 2"
   ]
  },
  {
   "cell_type": "code",
   "execution_count": 39,
   "metadata": {},
   "outputs": [],
   "source": [
    "A = np.array([[1, 2], [-1, 1]])\n",
    "B = np.array([[2, 0], [0, 2]])\n",
    "C = np.array([[2, 0, -3], [0, 0, -1]])\n",
    "D = np.array([[1, 2], [2, 3], [-1, 0]])\n",
    "x = np.array([[1], [0]])\n",
    "y = np.array([[0], [1]])\n",
    "z = np.array([[1], [2], [-1]])"
   ]
  },
  {
   "cell_type": "code",
   "execution_count": 40,
   "metadata": {},
   "outputs": [],
   "source": [
    "A4 = A + B\n",
    "A5 = 3 * x - 4 * y\n",
    "A6 = np.dot(A, x)\n",
    "A7 = np.dot(B, x - y)\n",
    "A8 = np.dot(D, x)\n",
    "A9 = np.dot(D, y) + z\n",
    "A10 = np.dot(A, B)\n",
    "A11 = np.dot(B, C)\n",
    "A12 = np.dot(C, D)\n"
   ]
  },
  {
   "cell_type": "code",
   "execution_count": 41,
   "metadata": {},
   "outputs": [],
   "source": [
    "np.save('/Users/jere_7/Documents/AU24/AMATH 481/A4.npy', A4)\n",
    "np.save('/Users/jere_7/Documents/AU24/AMATH 481/A5.npy', A5)\n",
    "np.save('/Users/jere_7/Documents/AU24/AMATH 481/A6.npy', A6)\n",
    "np.save('/Users/jere_7/Documents/AU24/AMATH 481/A7.npy', A7)\n",
    "np.save('/Users/jere_7/Documents/AU24/AMATH 481/A8.npy', A8)\n",
    "np.save('/Users/jere_7/Documents/AU24/AMATH 481/A9.npy', A9)\n",
    "np.save('/Users/jere_7/Documents/AU24/AMATH 481/A10.npy', A10)\n",
    "np.save('/Users/jere_7/Documents/AU24/AMATH 481/A11.npy', A11)\n",
    "np.save('/Users/jere_7/Documents/AU24/AMATH 481/A12.npy', A12)"
   ]
  }
 ],
 "metadata": {
  "kernelspec": {
   "display_name": "Python 3",
   "language": "python",
   "name": "python3"
  },
  "language_info": {
   "codemirror_mode": {
    "name": "ipython",
    "version": 3
   },
   "file_extension": ".py",
   "mimetype": "text/x-python",
   "name": "python",
   "nbconvert_exporter": "python",
   "pygments_lexer": "ipython3",
   "version": "3.11.4"
  }
 },
 "nbformat": 4,
 "nbformat_minor": 2
}
