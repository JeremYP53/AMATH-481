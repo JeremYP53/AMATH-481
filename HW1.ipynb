{
 "cells": [
  {
   "cell_type": "code",
   "execution_count": 9,
   "metadata": {},
   "outputs": [],
   "source": [
    "import numpy as np"
   ]
  },
  {
   "cell_type": "code",
   "execution_count": 10,
   "metadata": {},
   "outputs": [],
   "source": [
    "def f(x):\n",
    "    return x * np.sin(3 * x) - np.exp(x)\n",
    "\n",
    "def df(x):\n",
    "    return np.sin(3 * x) + 3 * x * np.cos(3 * x) - np.exp(x)"
   ]
  },
  {
   "cell_type": "code",
   "execution_count": 11,
   "metadata": {},
   "outputs": [],
   "source": [
    "x = [-1.6] # initial guess\n",
    "newton_iteration = 0\n",
    "for j in range(1000):\n",
    "    x_j = x[j] - (f(x[j]) / df(x[j]))\n",
    "    x.append(x_j)\n",
    "    newton_iteration += 1\n",
    "    if np.abs(f(x_j)) < 1e-6:\n",
    "        break\n",
    "A1 = x"
   ]
  },
  {
   "cell_type": "code",
   "execution_count": 12,
   "metadata": {},
   "outputs": [],
   "source": [
    "xl = -0.7\n",
    "xr = -0.4\n",
    "xc = []\n",
    "bisection_iteration = 0\n",
    "for j in range(1000):\n",
    "    xc.append((xr + xl)/2)\n",
    "    fc = f(xc[j])\n",
    "    bisection_iteration += 1\n",
    "    if ( fc > 0 ):\n",
    "        xl = xc[j]\n",
    "    else:\n",
    "        xr = xc[j]\n",
    "    if (np.abs(fc) < 1e-6):\n",
    "        break"
   ]
  },
  {
   "cell_type": "code",
   "execution_count": 13,
   "metadata": {},
   "outputs": [
    {
     "data": {
      "text/plain": [
       "[10, 17]"
      ]
     },
     "execution_count": 13,
     "metadata": {},
     "output_type": "execute_result"
    }
   ],
   "source": [
    "A3 = [newton_iteration, bisection_iteration]\n",
    "A3"
   ]
  },
  {
   "cell_type": "code",
   "execution_count": 15,
   "metadata": {},
   "outputs": [],
   "source": [
    "np.save('/Users/jere_7/Documents/AU24/AMATH 481/A1.npy', A1)"
   ]
  }
 ],
 "metadata": {
  "kernelspec": {
   "display_name": "Python 3",
   "language": "python",
   "name": "python3"
  },
  "language_info": {
   "codemirror_mode": {
    "name": "ipython",
    "version": 3
   },
   "file_extension": ".py",
   "mimetype": "text/x-python",
   "name": "python",
   "nbconvert_exporter": "python",
   "pygments_lexer": "ipython3",
   "version": "3.11.4"
  }
 },
 "nbformat": 4,
 "nbformat_minor": 2
}
