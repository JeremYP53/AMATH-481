{
 "cells": [
  {
   "cell_type": "code",
   "execution_count": 7,
   "metadata": {},
   "outputs": [],
   "source": [
    "import numpy as np"
   ]
  },
  {
   "cell_type": "code",
   "execution_count": 8,
   "metadata": {},
   "outputs": [],
   "source": [
    "def f(x):\n",
    "    return x * np.sin(3 * x) - np.exp(x)\n",
    "\n",
    "def df(x):\n",
    "    return np.sin(3 * x) + 3 * x * np.cos(3 * x) - np.exp(x)"
   ]
  },
  {
   "cell_type": "code",
   "execution_count": 9,
   "metadata": {},
   "outputs": [],
   "source": [
    "def newton_raphson(x0, tol=1e-6, max_iter=1000):\n",
    "    x = [x0]\n",
    "    for j in range(max_iter):\n",
    "        x_j = x[j]- (f(x[j]) / df(x[j]))\n",
    "        x.append(x_j)\n",
    "        if abs(f(x[j])) < tol:\n",
    "            break\n",
    "    newton_iter = j + 1\n",
    "    return x, newton_iter"
   ]
  },
  {
   "cell_type": "code",
   "execution_count": 10,
   "metadata": {},
   "outputs": [],
   "source": [
    "A1, newton_iter = newton_raphson(x0 = -1.6)"
   ]
  },
  {
   "cell_type": "code",
   "execution_count": 11,
   "metadata": {},
   "outputs": [],
   "source": [
    "def bisection(xl, xr, tol=1e-6, max_iter=1000):\n",
    "    xc = []\n",
    "    for j in range(max_iter):\n",
    "        xc.append((xr + xl)/2)\n",
    "        fc = f(xc[j])\n",
    "        if fc > 0 :\n",
    "            xl = xc[j]\n",
    "        else:\n",
    "            xr = xc[j]\n",
    "        if np.abs(fc) < tol:\n",
    "            break\n",
    "    bisection_iter = j + 1\n",
    "    return xc, bisection_iter\n"
   ]
  },
  {
   "cell_type": "code",
   "execution_count": 12,
   "metadata": {},
   "outputs": [],
   "source": [
    "A2, bisection_iter = bisection(xl = -0.7, xr = -0.4)"
   ]
  },
  {
   "cell_type": "code",
   "execution_count": 13,
   "metadata": {},
   "outputs": [],
   "source": [
    "A3 = [newton_iter, bisection_iter]"
   ]
  },
  {
   "cell_type": "code",
   "execution_count": 14,
   "metadata": {},
   "outputs": [],
   "source": [
    "A = np.array([[1, 2], [-1, 1]])\n",
    "B = np.array([[2, 0], [0, 2]])\n",
    "C = np.array([[2, 0, -3], [0, 0, -1]])\n",
    "D = np.array([[1, 2], [2, 3], [-1, 0]])\n",
    "x = np.array([[1], [0]]).flatten()\n",
    "y = np.array([[0], [1]]).flatten()\n",
    "z = np.array([[1], [2], [-1]]).flatten()\n"
   ]
  },
  {
   "cell_type": "code",
   "execution_count": 15,
   "metadata": {},
   "outputs": [],
   "source": [
    "A4 = A + B\n",
    "A5 = (3 * x - 4 * y)\n",
    "A6 = np.dot(A, x)\n",
    "A7 = np.dot(B, x - y)\n",
    "A8 = np.dot(D, x)\n",
    "A9 = np.dot(D, y) + z\n",
    "A10 = np.dot(A, B)\n",
    "A11 = np.dot(B, C)\n",
    "A12 = np.dot(C, D)"
   ]
  }
 ],
 "metadata": {
  "kernelspec": {
   "display_name": "Python 3",
   "language": "python",
   "name": "python3"
  },
  "language_info": {
   "codemirror_mode": {
    "name": "ipython",
    "version": 3
   },
   "file_extension": ".py",
   "mimetype": "text/x-python",
   "name": "python",
   "nbconvert_exporter": "python",
   "pygments_lexer": "ipython3",
   "version": "3.9.6"
  }
 },
 "nbformat": 4,
 "nbformat_minor": 2
}
